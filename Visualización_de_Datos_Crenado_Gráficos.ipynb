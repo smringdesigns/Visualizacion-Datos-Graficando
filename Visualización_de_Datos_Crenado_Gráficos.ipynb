{
  "nbformat": 4,
  "nbformat_minor": 0,
  "metadata": {
    "colab": {
      "provenance": [],
      "authorship_tag": "ABX9TyMlV2q1/F5K+gkSFaPpyjhx",
      "include_colab_link": true
    },
    "kernelspec": {
      "name": "python3",
      "display_name": "Python 3"
    },
    "language_info": {
      "name": "python"
    }
  },
  "cells": [
    {
      "cell_type": "markdown",
      "metadata": {
        "id": "view-in-github",
        "colab_type": "text"
      },
      "source": [
        "<a href=\"https://colab.research.google.com/github/smringdesigns/Visualizacion-Datos-Graficando/blob/main/Visualizaci%C3%B3n_de_Datos_Crenado_Gr%C3%A1ficos.ipynb\" target=\"_parent\"><img src=\"https://colab.research.google.com/assets/colab-badge.svg\" alt=\"Open In Colab\"/></a>"
      ]
    },
    {
      "cell_type": "markdown",
      "source": [
        "# **Visualización de Datos con Python: Matplotlib, Seaborn y Plotly**\n",
        "\n",
        "---\n",
        "\n"
      ],
      "metadata": {
        "id": "6PN7anKiCDpi"
      }
    },
    {
      "cell_type": "code",
      "source": [],
      "metadata": {
        "id": "HQfnmwRPCtVA"
      },
      "execution_count": null,
      "outputs": []
    },
    {
      "cell_type": "code",
      "source": [],
      "metadata": {
        "id": "Vwg8fMmMCX0b"
      },
      "execution_count": null,
      "outputs": []
    }
  ]
}